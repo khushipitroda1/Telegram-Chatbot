{
  "cells": [
    {
      "cell_type": "code",
      "execution_count": null,
      "metadata": {
        "colab": {
          "base_uri": "https://localhost:8080/"
        },
        "id": "m187geuOHnsi",
        "outputId": "9ffa0c2c-7e6d-4be1-d8c3-c56ec3c42a34"
      },
      "outputs": [
        {
          "name": "stdout",
          "output_type": "stream",
          "text": [
            "NVIDIA-SMI has failed because it couldn't communicate with the NVIDIA driver. Make sure that the latest NVIDIA driver is installed and running.\n",
            "\n"
          ]
        }
      ],
      "source": [
        "!nvidia-smi"
      ]
    },
    {
      "cell_type": "code",
      "execution_count": null,
      "metadata": {
        "colab": {
          "base_uri": "https://localhost:8080/"
        },
        "id": "2dhipoX5M-HW",
        "outputId": "d16fffb0-5e42-44d8-d020-289583983f6c"
      },
      "outputs": [
        {
          "name": "stdout",
          "output_type": "stream",
          "text": [
            "Requirement already satisfied: python-telegram-bot in /usr/local/lib/python3.7/dist-packages (13.11)\n",
            "Requirement already satisfied: certifi in /usr/local/lib/python3.7/dist-packages (from python-telegram-bot) (2021.10.8)\n",
            "Requirement already satisfied: APScheduler==3.6.3 in /usr/local/lib/python3.7/dist-packages (from python-telegram-bot) (3.6.3)\n",
            "Requirement already satisfied: cachetools==4.2.2 in /usr/local/lib/python3.7/dist-packages (from python-telegram-bot) (4.2.2)\n",
            "Requirement already satisfied: pytz>=2018.6 in /usr/local/lib/python3.7/dist-packages (from python-telegram-bot) (2022.1)\n",
            "Requirement already satisfied: tornado>=6.1 in /usr/local/lib/python3.7/dist-packages (from python-telegram-bot) (6.1)\n",
            "Requirement already satisfied: tzlocal>=1.2 in /usr/local/lib/python3.7/dist-packages (from APScheduler==3.6.3->python-telegram-bot) (1.5.1)\n",
            "Requirement already satisfied: setuptools>=0.7 in /usr/local/lib/python3.7/dist-packages (from APScheduler==3.6.3->python-telegram-bot) (57.4.0)\n",
            "Requirement already satisfied: six>=1.4.0 in /usr/local/lib/python3.7/dist-packages (from APScheduler==3.6.3->python-telegram-bot) (1.15.0)\n"
          ]
        }
      ],
      "source": [
        "pip install python-telegram-bot"
      ]
    },
    {
      "cell_type": "code",
      "execution_count": null,
      "metadata": {
        "id": "5d_kp3v6HwGs"
      },
      "outputs": [],
      "source": [
        "from telegram.ext import Updater, Filters, CommandHandler, MessageHandler\n",
        "from tensorflow.keras.models import load_model\n",
        "import numpy as np"
      ]
    },
    {
      "cell_type": "code",
      "execution_count": null,
      "metadata": {
        "id": "uyjDoO9kLlTQ"
      },
      "outputs": [],
      "source": [
        "from tensorflow.keras.preprocessing.text import Tokenizer\n",
        "from tensorflow.keras.preprocessing.sequence import pad_sequences"
      ]
    },
    {
      "cell_type": "code",
      "execution_count": null,
      "metadata": {
        "id": "nG6l2nLWUOZT"
      },
      "outputs": [],
      "source": [
        "model = load_model('/content/drive/MyDrive/lstm_06.h5')"
      ]
    },
    {
      "cell_type": "code",
      "execution_count": null,
      "metadata": {
        "id": "s8zsozKUL-wM"
      },
      "outputs": [],
      "source": [
        ""
      ]
    },
    {
      "cell_type": "code",
      "execution_count": null,
      "metadata": {
        "id": "O5zi2VEFQBBo"
      },
      "outputs": [],
      "source": [
        "def start(updater, context):\n",
        "    updater.message.reply_text(\"Welcome to FIFA Bot\")\n",
        "\n",
        "def help(updater, context):\n",
        "    updater.message.reply_text(\"Just send the text that you want to verify\")\n",
        "\n",
        "def message(updater, context):\n",
        "    msg = updater.message.text\n",
        "    print(msg)\n",
        "    msg1 = [msg]\n",
        "    tokenizer = Tokenizer()\n",
        "    maxlen = 1000\n",
        "    text1 = tokenizer.fit_on_texts(msg1)\n",
        "    text1 = tokenizer.texts_to_sequences(msg1)\n",
        "    text2 = pad_sequences(text1, maxlen=maxlen)\n",
        "    model = load_model('/content/drive/MyDrive/lstm_06.h5')  \n",
        "    if len(text1[0])>3:  \n",
        "      print(\"siuuu\") \n",
        "      if (model.predict(text2) >= 0.5):\n",
        "        print(\"True\")\n",
        "        updater.message.reply_text(\"This text is True\")\n",
        "      else:\n",
        "        print(\"False\")\n",
        "        updater.message.reply_text(\"This text is False\")\n",
        "    else:\n",
        "      print(msg)\n",
        "      updater.message.reply_text(msg)\n"
      ]
    },
    {
      "cell_type": "code",
      "execution_count": null,
      "metadata": {
        "colab": {
          "background_save": true,
          "base_uri": "https://localhost:8080/"
        },
        "id": "pKCXsdYiN-yn",
        "outputId": "e0cbca13-262d-4ea7-d5d8-d1e118d6368e"
      },
      "outputs": [
        {
          "name": "stdout",
          "output_type": "stream",
          "text": [
            "chaman\n",
            "chaman\n",
            "He is a good boy theat he is sooo sexyyyyyyyy and i love it\n",
            "siuuu\n",
            "False\n",
            "Virat Kohli retired from cricket\n",
            "siuuu\n",
            "False\n",
            "MS dhoni is still playing ODI cricket\n",
            "siuuu\n",
            "False\n",
            "MS dhoni is not playing ODI cricket\n",
            "siuuu\n",
            "False\n",
            "Hardik Patel Exits Congress, \"Chicken Sandwich\" Swipe At Rahul Gandhi\n",
            "siuuu\n",
            "WARNING:tensorflow:5 out of the last 5 calls to <function Model.make_predict_function.<locals>.predict_function at 0x7fcd229c2440> triggered tf.function retracing. Tracing is expensive and the excessive number of tracings could be due to (1) creating @tf.function repeatedly in a loop, (2) passing tensors with different shapes, (3) passing Python objects instead of tensors. For (1), please define your @tf.function outside of the loop. For (2), @tf.function has experimental_relax_shapes=True option that relaxes argument shapes that can avoid unnecessary retracing. For (3), please refer to https://www.tensorflow.org/guide/function#controlling_retracing and https://www.tensorflow.org/api_docs/python/tf/function for  more details.\n",
            "False\n",
            "Ok\n",
            "Ok\n",
            "Hi\n",
            "Hi\n",
            "Ok\n",
            "Ok\n",
            "Ok\n",
            "Ok\n",
            "Siuu\n",
            "Siuu\n",
            "This is news\n",
            "This is news\n",
            "Delhi is on fire.\n",
            "siuuu\n",
            "WARNING:tensorflow:6 out of the last 6 calls to <function Model.make_predict_function.<locals>.predict_function at 0x7fcd1e99f9e0> triggered tf.function retracing. Tracing is expensive and the excessive number of tracings could be due to (1) creating @tf.function repeatedly in a loop, (2) passing tensors with different shapes, (3) passing Python objects instead of tensors. For (1), please define your @tf.function outside of the loop. For (2), @tf.function has experimental_relax_shapes=True option that relaxes argument shapes that can avoid unnecessary retracing. For (3), please refer to https://www.tensorflow.org/guide/function#controlling_retracing and https://www.tensorflow.org/api_docs/python/tf/function for  more details.\n",
            "False\n",
            "MS Dhoni is still playing ODI\n",
            "siuuu\n",
            "False\n"
          ]
        }
      ],
      "source": [
        "updater = Updater(\"5309805939:AAHfb418xjyxW6HEM6VHUPX66in9Ei8eQe8\")\n",
        "dispatcher = updater.dispatcher\n",
        "dispatcher.add_handler(CommandHandler('start', start))\n",
        "dispatcher.add_handler(CommandHandler('help', help))\n",
        "dispatcher.add_handler(MessageHandler(Filters.text, message))\n",
        "\n",
        "updater.start_polling()\n",
        "updater.idle()"
      ]
    },
    {
      "cell_type": "code",
      "execution_count": null,
      "metadata": {
        "id": "XWvMVs1AOBLf"
      },
      "outputs": [],
      "source": [
        ""
      ]
    }
  ],
  "metadata": {
    "colab": {
      "collapsed_sections": [],
      "name": "telegrambot.ipynb",
      "provenance": []
    },
    "kernelspec": {
      "display_name": "Python 3",
      "name": "python3"
    },
    "language_info": {
      "name": "python"
    }
  },
  "nbformat": 4,
  "nbformat_minor": 0
}